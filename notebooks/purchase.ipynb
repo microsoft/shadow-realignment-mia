{
 "cells": [
  {
   "cell_type": "markdown",
   "metadata": {},
   "source": [
    "Run this notebook to save the Purchase100 dataset into `.pickle` format. \n",
    "\n",
    "Before you run the commands below, make sure you have unzipped the dataset into a new folder `../data/purchase-100`."
   ]
  },
  {
   "cell_type": "code",
   "execution_count": 1,
   "metadata": {},
   "outputs": [],
   "source": [
    "import numpy as np\n",
    "\n",
    "purchase = np.loadtxt('../data/purchase-100/dataset_purchase', dtype=int, delimiter=',')"
   ]
  },
  {
   "cell_type": "code",
   "execution_count": 2,
   "metadata": {},
   "outputs": [],
   "source": [
    "import pickle\n",
    "\n",
    "with open('../data/purchase-100/dataset_purchase.pickle', 'wb') as f:\n",
    "    pickle.dump({'dataset': purchase}, f)"
   ]
  }
 ],
 "metadata": {
  "kernelspec": {
   "display_name": "Python 3 (ipykernel)",
   "language": "python",
   "name": "python3"
  },
  "language_info": {
   "codemirror_mode": {
    "name": "ipython",
    "version": 3
   },
   "file_extension": ".py",
   "mimetype": "text/x-python",
   "name": "python",
   "nbconvert_exporter": "python",
   "pygments_lexer": "ipython3",
   "version": "3.10.4"
  },
  "vscode": {
   "interpreter": {
    "hash": "bb0479fa05b08352fe2aa87e9f2e7db977f009780f5c2b49d40bc77b6557af15"
   }
  }
 },
 "nbformat": 4,
 "nbformat_minor": 4
}
