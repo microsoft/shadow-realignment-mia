{
 "cells": [
  {
   "cell_type": "markdown",
   "id": "eebfdb79-3e18-4b83-825a-771bb6a20129",
   "metadata": {},
   "source": [
    "# Utility of (model, dataset) pairs showed in Table 1"
   ]
  },
  {
   "cell_type": "code",
   "execution_count": 1,
   "id": "9a68c8ab-93e2-477a-938e-b0dca11fcbd1",
   "metadata": {},
   "outputs": [],
   "source": [
    "import numpy as np\n",
    "import os\n",
    "import pickle"
   ]
  },
  {
   "cell_type": "code",
   "execution_count": 3,
   "id": "19f086d3-c76b-484b-8ba6-560eb7f88ecb",
   "metadata": {},
   "outputs": [
    {
     "name": "stdout",
     "output_type": "stream",
     "text": [
      "Train acc 99.9 0.1\n",
      "Test acc 67.5 0.6\n"
     ]
    }
   ],
   "source": [
    "experiments_dir = f'../experiments/cifar10/attack/cnn-large'\n",
    "models_dir = os.path.join(experiments_dir, 'target_models')\n",
    "train_acc, test_acc = [], []\n",
    "for exp in range(10):\n",
    "    models_path = os.path.join(models_dir, f'exp_{exp}_model.pickle')\n",
    "    if not os.path.exists(models_path):\n",
    "        continue\n",
    "    with open(models_path, 'rb') as f:\n",
    "        saved_model = pickle.load(f)\n",
    "    train_acc.append(saved_model['train_acc'])\n",
    "    test_acc.append(saved_model['test_acc'])\n",
    "print('Train acc', 100*np.round(np.mean(train_acc), 3), 100*np.round(np.std(train_acc), 3))\n",
    "print('Test acc', 100*np.round(np.mean(test_acc), 3), 100*np.round(np.std(test_acc), 3))"
   ]
  },
  {
   "cell_type": "code",
   "execution_count": 4,
   "id": "1377c273-0ed9-4473-ab3e-f75bcc6fd023",
   "metadata": {},
   "outputs": [
    {
     "name": "stdout",
     "output_type": "stream",
     "text": [
      "Train acc 100.0 0.0\n",
      "Test acc 82.6 0.4\n"
     ]
    }
   ],
   "source": [
    "experiments_dir = f'../experiments/cifar10/attack/vgg16'\n",
    "models_dir = os.path.join(experiments_dir, 'target_models')\n",
    "train_acc, test_acc = [], []\n",
    "for exp in range(10):\n",
    "    models_path = os.path.join(models_dir, f'exp_{exp}_model.pickle')\n",
    "    if not os.path.exists(models_path):\n",
    "        continue\n",
    "    with open(models_path, 'rb') as f:\n",
    "        saved_model = pickle.load(f)\n",
    "    train_acc.append(saved_model['train_acc'])\n",
    "    test_acc.append(saved_model['test_acc'])\n",
    "print('Train acc', 100*np.round(np.mean(train_acc), 3), 100*np.round(np.std(train_acc), 3))\n",
    "print('Test acc', 100*np.round(np.mean(test_acc), 3), 100*np.round(np.std(test_acc), 3))"
   ]
  },
  {
   "cell_type": "code",
   "execution_count": 5,
   "id": "37d25215-cf0f-491d-8bb5-6d2464f259e9",
   "metadata": {},
   "outputs": [
    {
     "name": "stdout",
     "output_type": "stream",
     "text": [
      "Train acc 100.0 0.0\n",
      "Test acc 80.9 0.7000000000000001\n"
     ]
    }
   ],
   "source": [
    "experiments_dir = f'../experiments/purchase100/attack/generic-mlp-dropout_600,512,256,128,100'\n",
    "models_dir = os.path.join(experiments_dir, 'target_models')\n",
    "train_acc, test_acc = [], []\n",
    "for exp in range(10):\n",
    "    models_path = os.path.join(models_dir, f'exp_{exp}_model.pickle')\n",
    "    if not os.path.exists(models_path):\n",
    "        continue\n",
    "    with open(models_path, 'rb') as f:\n",
    "        saved_model = pickle.load(f)\n",
    "    train_acc.append(saved_model['train_acc'])\n",
    "    test_acc.append(saved_model['test_acc'])\n",
    "print('Train acc', 100*np.round(np.mean(train_acc), 3), 100*np.round(np.std(train_acc), 3))\n",
    "print('Test acc', 100*np.round(np.mean(test_acc), 3), 100*np.round(np.std(test_acc), 3))"
   ]
  },
  {
   "cell_type": "code",
   "execution_count": 6,
   "id": "b934e1a9-9038-4e61-baec-7e97e67c7ede",
   "metadata": {},
   "outputs": [
    {
     "name": "stdout",
     "output_type": "stream",
     "text": [
      "Train acc 98.8 2.7\n",
      "Test acc 48.699999999999996 0.7000000000000001\n"
     ]
    }
   ],
   "source": [
    "experiments_dir = f'../experiments/texas100/attack/generic-mlp-dropout_6169,1024,512,256,128,100'\n",
    "models_dir = os.path.join(experiments_dir, 'target_models')\n",
    "train_acc, test_acc = [], []\n",
    "for exp in range(10):\n",
    "    models_path = os.path.join(models_dir, f'exp_{exp}_model.pickle')\n",
    "    if not os.path.exists(models_path):\n",
    "        continue\n",
    "    with open(models_path, 'rb') as f:\n",
    "        saved_model = pickle.load(f)\n",
    "    train_acc.append(saved_model['train_acc'])\n",
    "    test_acc.append(saved_model['test_acc'])\n",
    "print('Train acc', 100*np.round(np.mean(train_acc), 3), 100*np.round(np.std(train_acc), 3))\n",
    "print('Test acc', 100*np.round(np.mean(test_acc), 3), 100*np.round(np.std(test_acc), 3))"
   ]
  },
  {
   "cell_type": "code",
   "execution_count": 7,
   "id": "faeafc28-e41d-4614-80f5-3bd23e6ddbd3",
   "metadata": {},
   "outputs": [
    {
     "name": "stdout",
     "output_type": "stream",
     "text": [
      "Train acc 63.0 1.0999999999999999\n",
      "Test acc 32.300000000000004 0.6\n"
     ]
    }
   ],
   "source": [
    "experiments_dir = f'../experiments/tiny-imagenet-200/attack/resnet18'\n",
    "models_dir = os.path.join(experiments_dir, 'target_models')\n",
    "train_acc, test_acc = [], []\n",
    "for exp in range(5):\n",
    "    models_path = os.path.join(models_dir, f'exp_{exp}_model.pickle')\n",
    "    if not os.path.exists(models_path):\n",
    "        continue\n",
    "    with open(models_path, 'rb') as f:\n",
    "        saved_model = pickle.load(f)\n",
    "    train_acc.append(saved_model['train_acc'])\n",
    "    test_acc.append(saved_model['test_acc'])\n",
    "print('Train acc', 100*np.round(np.mean(train_acc), 3), 100*np.round(np.std(train_acc), 3))\n",
    "print('Test acc', 100*np.round(np.mean(test_acc), 3), 100*np.round(np.std(test_acc), 3))"
   ]
  }
 ],
 "metadata": {
  "kernelspec": {
   "display_name": "Python 3 (ipykernel)",
   "language": "python",
   "name": "python3"
  },
  "language_info": {
   "codemirror_mode": {
    "name": "ipython",
    "version": 3
   },
   "file_extension": ".py",
   "mimetype": "text/x-python",
   "name": "python",
   "nbconvert_exporter": "python",
   "pygments_lexer": "ipython3",
   "version": "3.10.4"
  }
 },
 "nbformat": 4,
 "nbformat_minor": 5
}
