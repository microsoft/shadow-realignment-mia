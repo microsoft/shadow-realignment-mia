{
 "cells": [
  {
   "cell_type": "code",
   "execution_count": 1,
   "metadata": {},
   "outputs": [],
   "source": [
    "import importlib\n",
    "import numpy as np\n",
    "import os\n",
    "import pickle\n",
    "import sys\n",
    "import torch\n",
    "import torch.nn as nn\n",
    "from torch.utils.data import Subset\n",
    "\n",
    "sys.path.insert(0, '../../')\n",
    "\n",
    "from src.dataset import get_num_classes, load_dataset\n",
    "from src.models import init_model\n",
    "import src.train_meta_model\n",
    "importlib.reload(src.train_meta_model)\n",
    "from src.train_meta_model import MetaModelDataLoader"
   ]
  },
  {
   "cell_type": "code",
   "execution_count": 2,
   "metadata": {},
   "outputs": [
    {
     "name": "stdout",
     "output_type": "stream",
     "text": [
      "Files already downloaded and verified\n"
     ]
    }
   ],
   "source": [
    "dataset_size = 0\n",
    "dataset_name = 'cifar10'\n",
    "architecture = 'cnn-large'\n",
    "num_classes = get_num_classes(dataset_name)\n",
    "\n",
    "dataset = load_dataset(dataset=dataset_name, transform='normalize', dataset_size=dataset_size, seed=42, path='../../../data')\n",
    "subset = Subset(dataset['train_and_test'], np.arange(6))"
   ]
  },
  {
   "cell_type": "code",
   "execution_count": 3,
   "metadata": {},
   "outputs": [
    {
     "name": "stdout",
     "output_type": "stream",
     "text": [
      "../../../experiments/cifar10/attack/cnn-large/shadow_models/aa-shadow_dataset\n"
     ]
    }
   ],
   "source": [
    "models_dir = f'../../../experiments/{dataset_name}/attack/{architecture}/shadow_models/aa-shadow_dataset'\n",
    "print(models_dir)\n",
    "\n",
    "models = []\n",
    "for exp in range(2):\n",
    "    models_path = os.path.join(models_dir, f'exp_{exp}_model.pickle')\n",
    "    with open(models_path, 'rb') as f:\n",
    "        saved_model = pickle.load(f)\n",
    "    model = init_model(architecture, num_classes, verbose=False)\n",
    "    model.load_state_dict(saved_model['model_state_dict'])\n",
    "    model.eval()\n",
    "    models.append(model)\n",
    "criterion = nn.CrossEntropyLoss()"
   ]
  },
  {
   "cell_type": "markdown",
   "metadata": {},
   "source": [
    "## 1 - Testing the batch sampling\n",
    "\n",
    "Test without shuffling (`shuffle=False`)"
   ]
  },
  {
   "cell_type": "code",
   "execution_count": 5,
   "metadata": {},
   "outputs": [
    {
     "name": "stdout",
     "output_type": "stream",
     "text": [
      "Subset labels [6, 9, 9, 4, 1, 1]\n",
      "Shuffled record idxs [0 1 2 3 4 5] Random model idxs [0, 0]\n",
      "First batch: image labels tensor([6, 9, 9, 4]) membership labels tensor([0, 1, 0, 1])\n",
      "Second batch: image labels tensor([1, 1]) membership labels tensor([0, 1])\n",
      "No third batch, as expected\n"
     ]
    }
   ],
   "source": [
    "print('Subset labels', [label for _, label in subset])\n",
    "\n",
    "meta_model_data_loader = MetaModelDataLoader(subset, \n",
    "    models[:1], \n",
    "    mia_labels=[[0, 1, 0, 1, 0, 1]], \n",
    "    batch_size=4, \n",
    "    shuffle=False, \n",
    "    device='cpu', \n",
    "    criterion=criterion, \n",
    "    features='activations', \n",
    "    target_layers='fc2',\n",
    "    set_based=False)\n",
    "\n",
    "meta_model_data_loader_iter = iter(meta_model_data_loader)\n",
    "print('Shuffled record idxs', meta_model_data_loader.record_idxs, 'Random model idxs', meta_model_data_loader.model_idxs)\n",
    "\n",
    "batch1 = next(meta_model_data_loader_iter)\n",
    "print('First batch: image labels', batch1[0][1], 'membership labels', batch1[1])\n",
    "batch2 = next(meta_model_data_loader_iter)\n",
    "print('Second batch: image labels', batch2[0][1], 'membership labels', batch2[1])\n",
    "try:\n",
    "    batch3 = next(meta_model_data_loader_iter)\n",
    "except StopIteration:\n",
    "    print('No third batch, as expected')"
   ]
  },
  {
   "cell_type": "markdown",
   "metadata": {},
   "source": [
    "Test with a different batch size."
   ]
  },
  {
   "cell_type": "code",
   "execution_count": 6,
   "metadata": {},
   "outputs": [
    {
     "name": "stdout",
     "output_type": "stream",
     "text": [
      "Subset labels [6, 9, 9, 4, 1, 1]\n",
      "Shuffled record idxs [0 1 2 3 4 5] Random model idxs [0, 0, 0]\n",
      "First batch: image labels tensor([6, 9]) membership labels tensor([0, 1])\n",
      "Second batch: image labels tensor([9, 4]) membership labels tensor([0, 1])\n",
      "Second batch: image labels tensor([1, 1]) membership labels tensor([0, 1])\n",
      "No fourth batch, as expected\n"
     ]
    }
   ],
   "source": [
    "print('Subset labels', [label for _, label in subset])\n",
    "\n",
    "meta_model_data_loader = MetaModelDataLoader(subset, \n",
    "    models[:1], \n",
    "    mia_labels=[[0, 1, 0, 1, 0, 1]], \n",
    "    batch_size=2, \n",
    "    shuffle=False, \n",
    "    device='cpu', \n",
    "    criterion=criterion, \n",
    "    features='activations', \n",
    "    target_layers='fc2',\n",
    "    set_based=False)\n",
    "\n",
    "meta_model_data_loader_iter = iter(meta_model_data_loader)\n",
    "print('Shuffled record idxs', meta_model_data_loader.record_idxs, 'Random model idxs', meta_model_data_loader.model_idxs)\n",
    "\n",
    "batch1 = next(meta_model_data_loader_iter)\n",
    "print('First batch: image labels', batch1[0][1], 'membership labels', batch1[1])\n",
    "batch2 = next(meta_model_data_loader_iter)\n",
    "print('Second batch: image labels', batch2[0][1], 'membership labels', batch2[1])\n",
    "batch3 = next(meta_model_data_loader_iter)\n",
    "print('Second batch: image labels', batch3[0][1], 'membership labels', batch3[1])\n",
    "try:\n",
    "    batch4 = next(meta_model_data_loader_iter)\n",
    "except StopIteration:\n",
    "    print('No fourth batch, as expected')"
   ]
  },
  {
   "cell_type": "markdown",
   "metadata": {},
   "source": [
    "Test with shuffling (`shuffle=True`)"
   ]
  },
  {
   "cell_type": "code",
   "execution_count": 7,
   "metadata": {},
   "outputs": [
    {
     "name": "stdout",
     "output_type": "stream",
     "text": [
      "Subset labels [6, 9, 9, 4, 1, 1]\n",
      "Shuffled record idxs [5 2 1 3 0 4] Random model idxs [0, 1]\n",
      "First batch: image labels tensor([1, 9, 9]) membership labels tensor([1, 0, 1])\n",
      "Second batch: image labels tensor([4, 6, 1]) membership labels tensor([1, 0, 1])\n",
      "No third batch, as expected\n",
      "Shuffled record idxs [1 0 5 3 4 2] Random model idxs [1, 0]\n",
      "First batch: image labels tensor([9, 6, 1]) membership labels tensor([0, 0, 1])\n",
      "Second batch: image labels tensor([4, 1, 9]) membership labels tensor([1, 0, 0])\n",
      "No third batch, as expected\n",
      "Shuffled record idxs [0 3 5 1 2 4] Random model idxs [0, 1]\n",
      "First batch: image labels tensor([6, 4, 1]) membership labels tensor([0, 1, 1])\n",
      "Second batch: image labels tensor([9, 9, 1]) membership labels tensor([0, 0, 1])\n",
      "No third batch, as expected\n"
     ]
    }
   ],
   "source": [
    "print('Subset labels', [label for _, label in subset])\n",
    "\n",
    "meta_model_data_loader = MetaModelDataLoader(subset, \n",
    "    models, \n",
    "    mia_labels=[[0, 1, 0, 1, 0, 1], [0, 0, 0, 1, 1, 1]], \n",
    "    batch_size=3, \n",
    "    shuffle=True, \n",
    "    device='cpu', \n",
    "    criterion=criterion, \n",
    "    features='activations', \n",
    "    target_layers='fc2',\n",
    "    set_based=False)\n",
    "\n",
    "np.random.seed(0)\n",
    "for _ in range(3):\n",
    "    meta_model_data_loader_iter = iter(meta_model_data_loader)\n",
    "    print('Shuffled record idxs', meta_model_data_loader.record_idxs, 'Random model idxs', meta_model_data_loader.model_idxs)\n",
    "\n",
    "    batch1 = next(meta_model_data_loader_iter)\n",
    "    print('First batch: image labels', batch1[0][1], 'membership labels', batch1[1])\n",
    "    batch2 = next(meta_model_data_loader_iter)\n",
    "    print('Second batch: image labels', batch2[0][1], 'membership labels', batch2[1])\n",
    "    try:\n",
    "        batch3 = next(meta_model_data_loader_iter)\n",
    "    except StopIteration:\n",
    "        print('No third batch, as expected')"
   ]
  },
  {
   "cell_type": "markdown",
   "metadata": {},
   "source": [
    "## 2 - Testing that the batch contents match the corresponding models"
   ]
  },
  {
   "cell_type": "code",
   "execution_count": 8,
   "metadata": {},
   "outputs": [
    {
     "name": "stdout",
     "output_type": "stream",
     "text": [
      "Output of model 1 tensor([[8.8081e-04, 9.9280e-01, 7.3441e-08, 1.3857e-04, 3.3236e-07, 2.1265e-06,\n",
      "         3.5972e-06, 6.9974e-07, 2.8901e-05, 6.1468e-03],\n",
      "        [9.8960e-05, 3.1840e-05, 6.5025e-05, 1.5947e-05, 4.6320e-06, 2.2360e-06,\n",
      "         8.8100e-08, 2.9202e-05, 7.6654e-05, 9.9968e-01],\n",
      "        [1.6031e-07, 4.3761e-03, 4.4994e-09, 5.3153e-10, 2.8170e-09, 4.4277e-09,\n",
      "         4.9412e-12, 8.5916e-06, 1.3888e-06, 9.9561e-01],\n",
      "        [7.9239e-05, 1.4932e-08, 2.3268e-04, 2.2041e-05, 9.9869e-01, 4.7794e-04,\n",
      "         4.5319e-04, 4.1945e-05, 1.1542e-08, 6.4197e-07],\n",
      "        [5.8311e-07, 6.6596e-09, 5.1585e-02, 1.2733e-01, 2.1690e-03, 1.9294e-02,\n",
      "         7.9929e-01, 3.3183e-04, 6.6206e-09, 3.9230e-08],\n",
      "        [8.7029e-07, 1.0000e+00, 1.7451e-15, 1.9158e-15, 4.3275e-13, 1.1852e-16,\n",
      "         3.8693e-16, 9.3926e-18, 3.7129e-12, 6.3222e-09]],\n",
      "       grad_fn=<SoftmaxBackward0>)\n",
      "Output of model 2 tensor([[1.0200e-10, 9.9999e-01, 2.9779e-11, 3.8782e-10, 7.6909e-11, 1.7333e-11,\n",
      "         2.3994e-07, 4.7684e-10, 2.4057e-08, 6.6453e-06],\n",
      "        [9.6398e-01, 3.3376e-03, 4.3379e-04, 2.0889e-02, 4.3422e-06, 5.2835e-04,\n",
      "         1.8581e-05, 3.9363e-03, 1.7975e-03, 5.0774e-03],\n",
      "        [1.3170e-05, 2.4336e-06, 1.2805e-09, 1.1328e-15, 1.3855e-15, 1.1346e-13,\n",
      "         1.0997e-17, 4.3678e-07, 3.0186e-05, 9.9995e-01],\n",
      "        [5.4454e-05, 1.5879e-06, 4.0430e-03, 5.4909e-04, 7.3922e-01, 2.1435e-02,\n",
      "         2.3102e-01, 3.6803e-03, 3.7002e-07, 2.7200e-06],\n",
      "        [2.5947e-06, 6.7332e-06, 6.5464e-03, 6.0838e-02, 2.4738e-02, 4.1082e-03,\n",
      "         8.9822e-01, 5.5169e-03, 1.8605e-05, 7.1581e-07],\n",
      "        [5.5499e-08, 9.9992e-01, 1.4069e-11, 2.0630e-15, 3.3744e-10, 5.9448e-17,\n",
      "         4.1933e-15, 6.2664e-15, 5.5201e-13, 7.6818e-05]],\n",
      "       grad_fn=<SoftmaxBackward0>)\n",
      "Subset labels [6, 9, 9, 4, 1, 1]\n",
      "Shuffled record idxs [5 2 1 3 0 4] Random model idxs [0, 1]\n",
      "First batch: image labels tensor([1, 9, 9]) membership labels tensor([1, 0, 1])\n",
      "tensor([[8.8081e-04, 9.9280e-01, 7.3441e-08, 1.3857e-04, 3.3236e-07, 2.1265e-06,\n",
      "         3.5972e-06, 6.9974e-07, 2.8901e-05, 6.1468e-03],\n",
      "        [9.8960e-05, 3.1840e-05, 6.5025e-05, 1.5947e-05, 4.6320e-06, 2.2360e-06,\n",
      "         8.8100e-08, 2.9202e-05, 7.6654e-05, 9.9968e-01],\n",
      "        [1.6031e-07, 4.3761e-03, 4.4994e-09, 5.3153e-10, 2.8170e-09, 4.4277e-09,\n",
      "         4.9412e-12, 8.5916e-06, 1.3888e-06, 9.9561e-01]])\n",
      "Second batch: image labels tensor([4, 6, 1]) membership labels tensor([1, 0, 1])\n",
      "tensor([[5.4454e-05, 1.5879e-06, 4.0430e-03, 5.4909e-04, 7.3922e-01, 2.1435e-02,\n",
      "         2.3102e-01, 3.6803e-03, 3.7002e-07, 2.7200e-06],\n",
      "        [2.5947e-06, 6.7332e-06, 6.5464e-03, 6.0838e-02, 2.4738e-02, 4.1082e-03,\n",
      "         8.9822e-01, 5.5169e-03, 1.8605e-05, 7.1581e-07],\n",
      "        [5.5499e-08, 9.9992e-01, 1.4069e-11, 2.0630e-15, 3.3744e-10, 5.9448e-17,\n",
      "         4.1933e-15, 6.2664e-15, 5.5201e-13, 7.6818e-05]])\n",
      "No third batch, as expected\n"
     ]
    }
   ],
   "source": [
    "shuffled = torch.cat([subset[i][0].unsqueeze(0) for i in [5, 2, 1, 3, 0, 4]], dim=0)\n",
    "print('Output of model 1', nn.functional.softmax(models[0](shuffled), dim=1))\n",
    "\n",
    "print('Output of model 2', nn.functional.softmax(models[1](shuffled), dim=1))\n",
    "\n",
    "print('Subset labels', [label for _, label in subset])\n",
    "\n",
    "meta_model_data_loader = MetaModelDataLoader(subset, \n",
    "    models, \n",
    "    mia_labels=[[0, 1, 0, 1, 0, 1], [0, 0, 0, 1, 1, 1]], \n",
    "    batch_size=3, \n",
    "    shuffle=True, \n",
    "    device='cpu', \n",
    "    criterion=criterion, \n",
    "    features='activations', \n",
    "    target_layers='fc2',\n",
    "    set_based=False)\n",
    "\n",
    "np.random.seed(0)\n",
    "\n",
    "meta_model_data_loader_iter = iter(meta_model_data_loader)\n",
    "print('Shuffled record idxs', meta_model_data_loader.record_idxs, 'Random model idxs', meta_model_data_loader.model_idxs)\n",
    "\n",
    "batch1 = next(meta_model_data_loader_iter)\n",
    "print('First batch: image labels', batch1[0][1], 'membership labels', batch1[1])\n",
    "print(batch1[0][0])\n",
    "batch2 = next(meta_model_data_loader_iter)\n",
    "print('Second batch: image labels', batch2[0][1], 'membership labels', batch2[1])\n",
    "print(batch2[0][0])\n",
    "try:\n",
    "    batch3 = next(meta_model_data_loader_iter)\n",
    "except StopIteration:\n",
    "    print('No third batch, as expected')"
   ]
  },
  {
   "cell_type": "markdown",
   "metadata": {},
   "source": [
    "# 3 - Other tests\n",
    "\n",
    "Using the GPU instead of the CPU."
   ]
  },
  {
   "cell_type": "code",
   "execution_count": 9,
   "metadata": {},
   "outputs": [
    {
     "name": "stdout",
     "output_type": "stream",
     "text": [
      "Subset labels [6, 9, 9, 4, 1, 1]\n",
      "Shuffled record idxs [0 1 2 3 4 5] Random model idxs [0, 0]\n",
      "First batch: image labels tensor([6, 9, 9, 4], device='cuda:0') membership labels tensor([0, 1, 0, 1], device='cuda:0')\n",
      "Second batch: image labels tensor([1, 1], device='cuda:0') membership labels tensor([0, 1], device='cuda:0')\n",
      "No third batch, as expected\n"
     ]
    }
   ],
   "source": [
    "print('Subset labels', [label for _, label in subset])\n",
    "\n",
    "meta_model_data_loader = MetaModelDataLoader(subset, \n",
    "    models[:1], \n",
    "    mia_labels=[[0, 1, 0, 1, 0, 1]], \n",
    "    batch_size=4, \n",
    "    shuffle=False, \n",
    "    device='cuda:0', \n",
    "    criterion=criterion, \n",
    "    features='activations', \n",
    "    target_layers='fc2',\n",
    "    set_based=False)\n",
    "\n",
    "meta_model_data_loader_iter = iter(meta_model_data_loader)\n",
    "print('Shuffled record idxs', meta_model_data_loader.record_idxs, 'Random model idxs', meta_model_data_loader.model_idxs)\n",
    "\n",
    "batch1 = next(meta_model_data_loader_iter)\n",
    "print('First batch: image labels', batch1[0][1], 'membership labels', batch1[1])\n",
    "batch2 = next(meta_model_data_loader_iter)\n",
    "print('Second batch: image labels', batch2[0][1], 'membership labels', batch2[1])\n",
    "try:\n",
    "    batch3 = next(meta_model_data_loader_iter)\n",
    "except StopIteration:\n",
    "    print('No third batch, as expected')"
   ]
  },
  {
   "cell_type": "markdown",
   "metadata": {},
   "source": [
    "Using the gradients."
   ]
  },
  {
   "cell_type": "code",
   "execution_count": 10,
   "metadata": {},
   "outputs": [
    {
     "name": "stdout",
     "output_type": "stream",
     "text": [
      "Subset labels [6, 9, 9, 4, 1, 1]\n",
      "Shuffled record idxs [0 1 2 3 4 5] Random model idxs [0, 0]\n",
      "First batch: image labels tensor([6, 9, 9, 4], device='cuda:0') membership labels tensor([0, 1, 0, 1], device='cuda:0')\n",
      "[torch.Size([4, 10]), torch.Size([4, 10, 501, 1]), torch.Size([4])]\n",
      "Second batch: image labels tensor([1, 1], device='cuda:0') membership labels tensor([0, 1], device='cuda:0')\n",
      "No third batch, as expected\n"
     ]
    }
   ],
   "source": [
    "print('Subset labels', [label for _, label in subset])\n",
    "\n",
    "meta_model_data_loader = MetaModelDataLoader(subset, \n",
    "    models[:1], \n",
    "    mia_labels=[[0, 1, 0, 1, 0, 1]], \n",
    "    batch_size=4, \n",
    "    shuffle=False, \n",
    "    device='cuda:0', \n",
    "    criterion=criterion, \n",
    "    features='activations,gradients', \n",
    "    target_layers='fc2',\n",
    "    set_based=False)\n",
    "\n",
    "meta_model_data_loader_iter = iter(meta_model_data_loader)\n",
    "print('Shuffled record idxs', meta_model_data_loader.record_idxs, 'Random model idxs', meta_model_data_loader.model_idxs)\n",
    "\n",
    "batch1 = next(meta_model_data_loader_iter)\n",
    "print('First batch: image labels', batch1[0][-1], 'membership labels', batch1[1])\n",
    "print([b.size() for b in batch1[0]])\n",
    "batch2 = next(meta_model_data_loader_iter)\n",
    "print('Second batch: image labels', batch2[0][-1], 'membership labels', batch2[1])\n",
    "try:\n",
    "    batch3 = next(meta_model_data_loader_iter)\n",
    "except StopIteration:\n",
    "    print('No third batch, as expected')"
   ]
  },
  {
   "cell_type": "code",
   "execution_count": null,
   "metadata": {},
   "outputs": [],
   "source": []
  }
 ],
 "metadata": {
  "kernelspec": {
   "display_name": "White-box MIAs",
   "language": "python",
   "name": "wb-mia"
  },
  "language_info": {
   "codemirror_mode": {
    "name": "ipython",
    "version": 3
   },
   "file_extension": ".py",
   "mimetype": "text/x-python",
   "name": "python",
   "nbconvert_exporter": "python",
   "pygments_lexer": "ipython3",
   "version": "3.10.4"
  },
  "vscode": {
   "interpreter": {
    "hash": "bb0479fa05b08352fe2aa87e9f2e7db977f009780f5c2b49d40bc77b6557af15"
   }
  }
 },
 "nbformat": 4,
 "nbformat_minor": 4
}
