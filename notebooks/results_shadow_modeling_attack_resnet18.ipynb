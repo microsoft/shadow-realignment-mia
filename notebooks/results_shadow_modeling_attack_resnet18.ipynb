{
 "cells": [
  {
   "cell_type": "markdown",
   "metadata": {},
   "source": [
    "# Results of white-box MIAs on the ResNet18 dataset\n",
    "\n",
    "The models are trained using a ResNet18 architecture. \n",
    "\n",
    "The specification of this architecture is given in ```../configs/tiny-imagenet-200/resnet18.ini```.\n",
    "\n",
    "We load results for MIAs trained using different features (specified below as ```activations```, ```gradients```, or ```activations,gradients```), extracted from different layers (e.g., ```fc1``` which stands for the first fully connected layer). The features can be extracted from different types of shadow models, indicated in the ```attacker_accessess``` list below. We hope the naming to be self-explanatory. We refer you to ```vgg_shadow_modelling_attack.py``` for more details on the different types of shadow models. "
   ]
  },
  {
   "cell_type": "code",
   "execution_count": 1,
   "metadata": {},
   "outputs": [],
   "source": [
    "from collections import defaultdict\n",
    "import matplotlib.pyplot as plt\n",
    "import numpy as np\n",
    "import os\n",
    "import pickle\n",
    "import scipy.stats"
   ]
  },
  {
   "cell_type": "code",
   "execution_count": 2,
   "metadata": {},
   "outputs": [],
   "source": [
    "attacker_accesses = [\"aa-target_dataset\",\n",
    "    \"aa-shadow_dataset_model_init\",\n",
    "    \"aa-shadow_dataset\",\n",
    "    \"aa-shadow_dataset-align-top_down_weight_matching\",\n",
    "]"
   ]
  },
  {
   "cell_type": "code",
   "execution_count": 3,
   "metadata": {},
   "outputs": [],
   "source": [
    "roc_results = {attacker_access: \n",
    "               {f : defaultdict(list) \n",
    "                for f in ['activations', 'gradients', 'activations,gradients']} \n",
    "               for attacker_access in attacker_accesses}"
   ]
  },
  {
   "cell_type": "code",
   "execution_count": 4,
   "metadata": {},
   "outputs": [
    {
     "name": "stdout",
     "output_type": "stream",
     "text": [
      "\n",
      "Features: activations \n",
      "\n",
      "\n",
      "Attacker access: aa-target_dataset\n",
      "Layer fc1: 5 experiments.  Test auc 0.597 (0.010), test acc: 56.8% (0.7%)\n",
      "Layer fc1-ia: 5 experiments.  Test auc 0.687 (0.010), test acc: 64.3% (0.6%)\n",
      "Layer fc1-ia-only: 5 experiments.  Test auc 0.688 (0.012), test acc: 63.9% (0.8%)\n",
      "\n",
      "Attacker access: aa-shadow_dataset_model_init\n",
      "Layer fc1: 5 experiments.  Test auc 0.586 (0.002), test acc: 55.5% (0.7%)\n",
      "Layer fc1-ia: 5 experiments.  Test auc 0.681 (0.010), test acc: 63.3% (0.4%)\n",
      "Layer fc1-ia-only: 5 experiments.  Test auc 0.682 (0.010), test acc: 63.4% (0.4%)\n",
      "\n",
      "Attacker access: aa-shadow_dataset\n",
      "Layer fc1: 5 experiments.  Test auc 0.586 (0.012), test acc: 55.8% (0.5%)\n",
      "Layer fc1-ia: 5 experiments.  Test auc 0.667 (0.010), test acc: 61.5% (1.0%)\n",
      "Layer fc1-ia-only: 5 experiments.  Test auc 0.667 (0.002), test acc: 62.5% (0.8%)\n",
      "\n",
      "Attacker access: aa-shadow_dataset-align-top_down_weight_matching\n",
      "Layer fc1-ia-only: 5 experiments.  Test auc 0.675 (0.009), test acc: 62.5% (0.3%)\n",
      "\n",
      "Features: gradients \n",
      "\n",
      "\n",
      "Attacker access: aa-target_dataset\n",
      "Layer fc1: 5 experiments.  Test auc 0.669 (0.005), test acc: 63.0% (0.4%)\n",
      "\n",
      "Attacker access: aa-shadow_dataset_model_init\n",
      "Layer fc1: 5 experiments.  Test auc 0.669 (0.007), test acc: 62.7% (0.7%)\n",
      "\n",
      "Attacker access: aa-shadow_dataset\n",
      "Layer fc1: 5 experiments.  Test auc 0.671 (0.008), test acc: 63.1% (0.6%)\n",
      "\n",
      "Attacker access: aa-shadow_dataset-align-top_down_weight_matching\n",
      "Layer fc1: 5 experiments.  Test auc 0.670 (0.006), test acc: 62.9% (0.6%)\n"
     ]
    }
   ],
   "source": [
    "experiments_dir = '../experiments/tiny-imagenet-200/attack/resnet18/attack_results'\n",
    "num_repetitions = 5\n",
    "\n",
    "for features in ['activations', 'gradients']:\n",
    "    print(f'\\nFeatures: {features} \\n')\n",
    "\n",
    "    if features == \"activations\":\n",
    "        target_layers = [\"fc1\", \"fc1-ia\", \"fc1-ia-only\"]\n",
    "    elif features == 'gradients':\n",
    "        target_layers = [\"fc1\", \"fc1-ia\"]\n",
    "\n",
    "    for attacker_access in attacker_accesses:\n",
    "        print(f'\\nAttacker access: {attacker_access}')\n",
    "        results = {layer: {\"test_acc\": [], \"test_auc\": [], \"best_test_acc\": []} for layer in target_layers}\n",
    "\n",
    "        for layer in target_layers:\n",
    "            num_repetitions_found = 0\n",
    "            for exp in range(num_repetitions):\n",
    "                result_dir = os.path.join(experiments_dir, attacker_access, features, layer)\n",
    "                saved_model_path = os.path.join(result_dir, f'exp_{exp}_model.pickle')\n",
    "                if not os.path.exists(saved_model_path):\n",
    "                    continue\n",
    "                with open(saved_model_path, 'rb') as f:\n",
    "                    saved_model = pickle.load(f)\n",
    "                    if not saved_model['train_complete']:\n",
    "                        continue\n",
    "                    test_metrics = saved_model['test_metrics']\n",
    "                test_acc = test_metrics['acc']\n",
    "                test_auc = test_metrics['auc']\n",
    "                results[layer]['test_auc'].append(test_auc)\n",
    "                results[layer]['test_acc'].append(test_acc)\n",
    "                roc_results[attacker_access][features][layer].append( \n",
    "                    (test_metrics['fpr'], test_metrics['tpr']) )\n",
    "                num_repetitions_found += 1\n",
    "            if num_repetitions_found == 0:\n",
    "                continue\n",
    "            mean_test_auc, std_test_auc = np.mean(results[layer]['test_auc']), np.std(results[layer]['test_auc'])\n",
    "            mean_test_acc, std_test_acc = np.mean(results[layer]['test_acc']), np.std(results[layer]['test_acc'])\n",
    "            h_test_auc =  std_test_auc * scipy.stats.t.ppf((1 + 0.95) / 2., num_repetitions_found-1) / (num_repetitions_found**0.5)\n",
    "            print(f'Layer {layer}: {num_repetitions_found} experiments. ', \n",
    "                f'Test auc {mean_test_auc:.3f} ({h_test_auc:.3f}), test acc: {mean_test_acc:.1%} ({std_test_acc:.1%})')"
   ]
  },
  {
   "cell_type": "code",
   "execution_count": 5,
   "metadata": {},
   "outputs": [
    {
     "name": "stdout",
     "output_type": "stream",
     "text": [
      "\n",
      "Features: activations,gradients \n",
      "\n",
      "\n",
      "Attacker access: aa-target_dataset\n",
      "Layer fc1: 5 experiments.  Test auc 0.685 (0.005), best test acc: 64.2% (0.1%)\n",
      "Layer fc1-ia: 5 experiments.  Test auc 0.693 (0.008), best test acc: 64.7% (0.3%)\n",
      "\n",
      "Attacker access: aa-shadow_dataset_model_init\n",
      "Layer fc1: 5 experiments.  Test auc 0.681 (0.004), best test acc: 63.9% (0.8%)\n",
      "Layer fc1-ia: 5 experiments.  Test auc 0.694 (0.005), best test acc: 64.4% (0.9%)\n",
      "\n",
      "Attacker access: aa-shadow_dataset\n",
      "Layer fc1: 5 experiments.  Test auc 0.680 (0.003), best test acc: 63.5% (0.5%)\n",
      "Layer fc1-ia: 5 experiments.  Test auc 0.689 (0.007), best test acc: 64.8% (0.4%)\n",
      "\n",
      "Attacker access: aa-shadow_dataset-align-top_down_weight_matching\n",
      "Layer fc1: 5 experiments.  Test auc 0.684 (0.004), best test acc: 64.1% (0.6%)\n",
      "Layer fc1-ia: 5 experiments.  Test auc 0.691 (0.008), best test acc: 64.8% (0.5%)\n"
     ]
    }
   ],
   "source": [
    "features = 'activations,gradients'\n",
    "print(f'\\nFeatures: {features} \\n')\n",
    "\n",
    "target_layers = [\"fc1\", \"fc1-ia\"]\n",
    "\n",
    "for attacker_access in attacker_accesses:\n",
    "    print(f'\\nAttacker access: {attacker_access}')\n",
    "    results = {layer: {\"test_acc\": [], \"test_auc\": [], \"best_test_acc\": []} for layer in target_layers}\n",
    "\n",
    "    for layer in target_layers:\n",
    "        num_repetitions_found = 0\n",
    "        for exp in range(num_repetitions):\n",
    "            result_dir = os.path.join(experiments_dir, attacker_access, features, layer)\n",
    "            saved_model_path = os.path.join(result_dir, f'exp_{exp}_model.pickle')\n",
    "            if not os.path.exists(saved_model_path):\n",
    "                continue\n",
    "            with open(saved_model_path, 'rb') as f:\n",
    "                saved_model = pickle.load(f)\n",
    "                if not saved_model['train_complete']:\n",
    "                    continue\n",
    "                test_metrics = saved_model['test_metrics']\n",
    "            test_acc = test_metrics['best_acc']\n",
    "            test_auc = test_metrics['auc']\n",
    "            results[layer]['test_auc'].append(test_auc)\n",
    "            results[layer]['test_acc'].append(test_acc)\n",
    "            num_repetitions_found += 1\n",
    "            roc_results[attacker_access][features][layer].append( \n",
    "                    (test_metrics['fpr'], test_metrics['tpr']) )\n",
    "        if num_repetitions_found == 0:\n",
    "            continue\n",
    "        mean_test_auc, std_test_auc = np.mean(results[layer]['test_auc']), np.std(results[layer]['test_auc'])\n",
    "        mean_test_acc, std_test_acc = np.mean(results[layer]['test_acc']), np.std(results[layer]['test_acc'])\n",
    "        h_test_auc =  std_test_auc * scipy.stats.t.ppf((1 + 0.95) / 2., num_repetitions_found-1) / (num_repetitions_found**0.5)\n",
    "        print(f'Layer {layer}: {num_repetitions_found} experiments. ', \n",
    "            f'Test auc {mean_test_auc:.3f} ({h_test_auc:.3f}), best test acc: {mean_test_acc:.1%} ({std_test_acc:.1%})')"
   ]
  }
 ],
 "metadata": {
  "kernelspec": {
   "display_name": "Python 3 (ipykernel)",
   "language": "python",
   "name": "python3"
  },
  "language_info": {
   "codemirror_mode": {
    "name": "ipython",
    "version": 3
   },
   "file_extension": ".py",
   "mimetype": "text/x-python",
   "name": "python",
   "nbconvert_exporter": "python",
   "pygments_lexer": "ipython3",
   "version": "3.10.4"
  },
  "vscode": {
   "interpreter": {
    "hash": "bb0479fa05b08352fe2aa87e9f2e7db977f009780f5c2b49d40bc77b6557af15"
   }
  }
 },
 "nbformat": 4,
 "nbformat_minor": 4
}
