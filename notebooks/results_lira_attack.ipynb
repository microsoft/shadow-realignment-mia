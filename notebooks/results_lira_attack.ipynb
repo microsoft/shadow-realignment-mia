{
 "cells": [
  {
   "cell_type": "markdown",
   "metadata": {},
   "source": [
    "# Compute results for the LiRA attack (Table 18)"
   ]
  },
  {
   "cell_type": "code",
   "execution_count": 1,
   "metadata": {},
   "outputs": [],
   "source": [
    "from collections import defaultdict\n",
    "import numpy as np\n",
    "import os\n",
    "import pickle\n",
    "import scipy.stats"
   ]
  },
  {
   "cell_type": "code",
   "execution_count": 2,
   "metadata": {},
   "outputs": [],
   "source": [
    "attacker_accesses = [\n",
    "    # Shadow models trained using disjoint data and different seed w.r.t. target model.\n",
    "    \"shadow_dataset\", \n",
    "    # Shadow models trained using disjoint data and same seed as the target model.\n",
    "    \"shadow_dataset_model_init\"] \n",
    "datasets = ['cifar10', 'purchase100', 'texas100']\n",
    "experiments_dirs = ['../experiments/cifar10/attack/cnn-large/lira',\n",
    "                   '../experiments/purchase100/attack/generic-mlp-dropout_600,512,256,128,100/lira',\n",
    "                   '../experiments/texas100/attack/generic-mlp-dropout_6169,1024,512,256,128,100/lira']\n",
    "num_repetitions = 10"
   ]
  },
  {
   "cell_type": "code",
   "execution_count": 3,
   "metadata": {},
   "outputs": [],
   "source": [
    "roc_results = { dataset: {attacker_access: defaultdict(list) for attacker_access in attacker_accesses}\n",
    "               for dataset in datasets}"
   ]
  },
  {
   "cell_type": "code",
   "execution_count": 4,
   "metadata": {},
   "outputs": [
    {
     "name": "stdout",
     "output_type": "stream",
     "text": [
      "Dataset cifar10 and shadow_dataset: 10 experiments.  Test auc 0.803 (0.018), test acc: 69.0% (1.0%)\n",
      "Dataset cifar10 and shadow_dataset_model_init: 10 experiments.  Test auc 0.815 (0.017), test acc: 69.6% (0.9%)\n",
      "Dataset purchase100 and shadow_dataset: 10 experiments.  Test auc 0.731 (0.015), test acc: 65.3% (0.9%)\n",
      "Dataset purchase100 and shadow_dataset_model_init: 10 experiments.  Test auc 0.734 (0.016), test acc: 65.4% (0.9%)\n",
      "Dataset texas100 and shadow_dataset: 10 experiments.  Test auc 0.829 (0.055), test acc: 68.9% (4.4%)\n",
      "Dataset texas100 and shadow_dataset_model_init: 10 experiments.  Test auc 0.835 (0.059), test acc: 69.6% (4.8%)\n"
     ]
    }
   ],
   "source": [
    "for dataset, experiments_dir in zip(datasets, experiments_dirs):\n",
    "    for attacker_access in attacker_accesses:\n",
    "        num_repetitions_found = 0\n",
    "        for exp in range(num_repetitions):\n",
    "            results_path = os.path.join(experiments_dir, attacker_access, f'results-{exp}.pickle')\n",
    "            if not os.path.exists(results_path):\n",
    "                continue\n",
    "            with open(results_path, 'rb') as f:\n",
    "                results = pickle.load(f)\n",
    "            test_acc = results['test_acc']\n",
    "            test_auc = results['test_auc']\n",
    "            roc_results[dataset][attacker_access]['test_acc'].append(results['test_acc'])\n",
    "            roc_results[dataset][attacker_access]['test_auc'].append(results['test_auc'])\n",
    "            num_repetitions_found += 1\n",
    "        mean_test_auc, std_test_auc = np.mean(roc_results[dataset][attacker_access]['test_auc']), np.std(roc_results[dataset][attacker_access]['test_auc'])\n",
    "        mean_test_acc, std_test_acc = np.mean(roc_results[dataset][attacker_access]['test_acc']), np.std(roc_results[dataset][attacker_access]['test_acc'])\n",
    "        h_test_auc =  std_test_auc * scipy.stats.t.ppf((1 + 0.95) / 2., num_repetitions_found-1) / (num_repetitions_found**0.5)\n",
    "        print(f'Dataset {dataset} and {attacker_access}: {num_repetitions_found} experiments. ',  \n",
    "              f'Test auc {mean_test_auc:.3f} ({h_test_auc:.3f}), test acc: {mean_test_acc:.1%} ({std_test_acc:.1%})')"
   ]
  }
 ],
 "metadata": {
  "kernelspec": {
   "display_name": "Python 3 (ipykernel)",
   "language": "python",
   "name": "python3"
  },
  "language_info": {
   "codemirror_mode": {
    "name": "ipython",
    "version": 3
   },
   "file_extension": ".py",
   "mimetype": "text/x-python",
   "name": "python",
   "nbconvert_exporter": "python",
   "pygments_lexer": "ipython3",
   "version": "3.10.4"
  },
  "vscode": {
   "interpreter": {
    "hash": "bb0479fa05b08352fe2aa87e9f2e7db977f009780f5c2b49d40bc77b6557af15"
   }
  }
 },
 "nbformat": 4,
 "nbformat_minor": 4
}
